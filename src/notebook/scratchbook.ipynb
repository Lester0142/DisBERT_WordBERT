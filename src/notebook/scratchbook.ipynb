{
 "cells": [
  {
   "cell_type": "code",
   "execution_count": 1,
   "metadata": {},
   "outputs": [
    {
     "name": "stderr",
     "output_type": "stream",
     "text": [
      "[nltk_data] Downloading package punkt to /home/lester/nltk_data...\n",
      "[nltk_data]   Package punkt is already up-to-date!\n",
      "[nltk_data] Downloading package wordnet to /home/lester/nltk_data...\n",
      "[nltk_data]   Package wordnet is already up-to-date!\n"
     ]
    },
    {
     "data": {
      "text/plain": [
       "True"
      ]
     },
     "execution_count": 1,
     "metadata": {},
     "output_type": "execute_result"
    }
   ],
   "source": [
    "import nltk\n",
    "from nltk.corpus import wordnet as wn\n",
    "from nltk.tokenize import word_tokenize, sent_tokenize\n",
    "\n",
    "nltk.download('punkt')\n",
    "nltk.download('wordnet')"
   ]
  },
  {
   "cell_type": "code",
   "execution_count": 13,
   "metadata": {},
   "outputs": [
    {
     "name": "stdout",
     "output_type": "stream",
     "text": [
      "argument :  a fact or assertion offered as evidence that something is true\n",
      "has :  (astronomy) the angular distance of a celestial point measured westward along the celestial equator from the zenith crossing; the right ascension for an observer at a particular location and time of day\n",
      "no :  a negative\n",
      "legs :  staying power\n",
      "stand :  a support or foundation\n",
      "on :  in operation or operational\n",
      "stock :  the capital raised by a corporation through the issue of shares entitling holders to an ownership interest (equity)\n",
      "market :  the world of commercial activity where goods and services are bought and sold\n",
      "soared :  rise rapidly\n",
      "like :  a similar kind; ,\n",
      "an :  an associate degree in nursing\n",
      "eagle :  any of various large keen-sighted diurnal birds of prey noted for their broad wings and strong soaring flight\n",
      "today :  the present time or age\n",
      "has :  (astronomy) the angular distance of a celestial point measured westward along the celestial equator from the zenith crossing; the right ascension for an observer at a particular location and time of day\n",
      "a :  a metric unit of length equal to one ten billionth of a meter (or 0.0001 micron); used to specify wavelengths of electromagnetic radiation\n",
      "heart :  the locus of feelings and intuitions\n",
      "stone :  a lump or mass of hard consolidated mineral matter\n",
      "Metaphorical Expressions Identified:\n",
      "Word: 'argument' in Sentence: '\n",
      "The argument has no legs to stand on.'\n",
      "Word: 'has' in Sentence: '\n",
      "The argument has no legs to stand on.'\n",
      "Word: 'no' in Sentence: '\n",
      "The argument has no legs to stand on.'\n",
      "Word: 'legs' in Sentence: '\n",
      "The argument has no legs to stand on.'\n",
      "Word: 'stand' in Sentence: '\n",
      "The argument has no legs to stand on.'\n",
      "Word: 'on' in Sentence: '\n",
      "The argument has no legs to stand on.'\n",
      "Word: 'stock' in Sentence: 'The stock market soared like an eagle today.'\n",
      "Word: 'market' in Sentence: 'The stock market soared like an eagle today.'\n",
      "Word: 'soared' in Sentence: 'The stock market soared like an eagle today.'\n",
      "Word: 'like' in Sentence: 'The stock market soared like an eagle today.'\n",
      "Word: 'an' in Sentence: 'The stock market soared like an eagle today.'\n",
      "Word: 'eagle' in Sentence: 'The stock market soared like an eagle today.'\n",
      "Word: 'today' in Sentence: 'The stock market soared like an eagle today.'\n",
      "Word: 'has' in Sentence: 'She has a heart of stone.'\n",
      "Word: 'a' in Sentence: 'She has a heart of stone.'\n",
      "Word: 'heart' in Sentence: 'She has a heart of stone.'\n",
      "Word: 'stone' in Sentence: 'She has a heart of stone.'\n"
     ]
    }
   ],
   "source": [
    "import re\n",
    "\n",
    "# Function to get the basic meaning (using WordNet synsets)\n",
    "def get_basic_meaning(word):\n",
    "    # regex to remove punctuation\n",
    "    word = re.sub(r'[^\\w\\s]', '', word)\n",
    "    word = word.lower().strip()\n",
    "    synsets = wn.synsets(word)\n",
    "    if synsets:\n",
    "        # Use the first synset as the most common meaning\n",
    "        basic_meaning = synsets[0].definition()\n",
    "        return basic_meaning\n",
    "    return None\n",
    "\n",
    "# Function to check if a word's contextual meaning differs from its basic meaning\n",
    "def is_metaphorical(word, context_sentence):\n",
    "    basic_meaning = get_basic_meaning(word)\n",
    "    if not basic_meaning:\n",
    "        return False  # If no basic meaning is found, assume it's not metaphorical\n",
    "\n",
    "    # Check if the word is used metaphorically\n",
    "    if basic_meaning not in context_sentence:\n",
    "        print(word, \": \", basic_meaning)\n",
    "        return True\n",
    "    return False\n",
    "\n",
    "# MIPVU Implementation\n",
    "def identify_metaphors(text):\n",
    "    sentences = sent_tokenize(text)\n",
    "    metaphorical_words = []\n",
    "\n",
    "    for sentence in sentences:\n",
    "        words = word_tokenize(sentence)\n",
    "        for word in words:\n",
    "            if is_metaphorical(word, sentence):\n",
    "                metaphorical_words.append((word, sentence))\n",
    "    \n",
    "    return metaphorical_words\n",
    "\n",
    "# Example Text\n",
    "text = \"\"\"\n",
    "The argument has no legs to stand on.\n",
    "The stock market soared like an eagle today.\n",
    "She has a heart of stone.\n",
    "\"\"\"\n",
    "\n",
    "# Identify metaphorical expressions in the text\n",
    "metaphors = identify_metaphors(text)\n",
    "\n",
    "# Display results\n",
    "print(\"Metaphorical Expressions Identified:\")\n",
    "for word, sentence in metaphors:\n",
    "    print(f\"Word: '{word}' in Sentence: '{sentence}'\")"
   ]
  },
  {
   "cell_type": "code",
   "execution_count": 3,
   "metadata": {},
   "outputs": [
    {
     "name": "stdout",
     "output_type": "stream",
     "text": [
      "Mark as metaphorically used (MRW)\n"
     ]
    }
   ],
   "source": [
    "class MIPPipeline:\n",
    "    def __init__(self, text, word):\n",
    "        self.text = text\n",
    "        self.word = word\n",
    "\n",
    "    def define_boundaries(self):\n",
    "        # Define the boundaries of the word in the text\n",
    "        return self.word\n",
    "\n",
    "    def establish_contextual_meaning(self):\n",
    "        # Establish the contextual meaning of the word in the text\n",
    "        return \"contextual_meaning\"\n",
    "\n",
    "    def determine_basic_meaning(self):\n",
    "        # Determine the basic meaning of the word (e.g., dictionary definition)\n",
    "        return \"basic_meaning\"\n",
    "\n",
    "    def is_metaphor(self, contextual_meaning, basic_meaning):\n",
    "        # Check if the basic meaning is different from contextual meaning\n",
    "        # and if they can be related by similarity\n",
    "        return contextual_meaning != basic_meaning\n",
    "\n",
    "    def process_mip(self):\n",
    "        boundaries = self.define_boundaries()\n",
    "        contextual_meaning = self.establish_contextual_meaning()\n",
    "        basic_meaning = self.determine_basic_meaning()\n",
    "\n",
    "        if self.is_metaphor(contextual_meaning, basic_meaning):\n",
    "            return True  # It's a metaphor\n",
    "        return False  # Not a metaphor\n",
    "\n",
    "\n",
    "class MIPVUPipeline(MIPPipeline):\n",
    "    def is_indirect_metaphor(self, contextual_meaning, basic_meaning):\n",
    "        # Check if the word is used indirectly and can be cross-domain mapped\n",
    "        return True  # Placeholder logic\n",
    "\n",
    "    def is_direct_metaphor(self, contextual_meaning, basic_meaning):\n",
    "        # Check if the word is used directly and can be cross-domain mapped\n",
    "        return True  # Placeholder logic\n",
    "\n",
    "    def is_implicit_metaphor(self, contextual_meaning, basic_meaning):\n",
    "        # Check if the word is used for lexico-grammatical substitution\n",
    "        return True  # Placeholder logic\n",
    "\n",
    "    def is_metaphor_flag(self, contextual_meaning):\n",
    "        # Check if the word signals that a cross-domain metaphor is at play\n",
    "        return True  # Placeholder logic\n",
    "\n",
    "    def process_mipvu(self):\n",
    "        if not self.process_mip():\n",
    "            return \"Not a metaphor\"\n",
    "\n",
    "        contextual_meaning = self.establish_contextual_meaning()\n",
    "        basic_meaning = self.determine_basic_meaning()\n",
    "\n",
    "        if self.is_indirect_metaphor(contextual_meaning, basic_meaning):\n",
    "            return \"Mark as metaphorically used (MRW)\"\n",
    "        elif self.is_direct_metaphor(contextual_meaning, basic_meaning):\n",
    "            return \"Mark as direct metaphor (MRW, direct)\"\n",
    "        elif self.is_implicit_metaphor(contextual_meaning, basic_meaning):\n",
    "            return \"Mark as implicit metaphor (MRW, implicit)\"\n",
    "        elif self.is_metaphor_flag(contextual_meaning):\n",
    "            return \"Mark as metaphor flag (MFlag)\"\n",
    "\n",
    "        return \"Not a metaphor\"\n",
    "\n",
    "\n",
    "# Example usage\n",
    "texts = [\"The sun smiled down on the beach.\", \"The stock market soared like an eagle today.\", \"John Cena is a professional wrestler.\"]\n",
    "word = \"smiled\"\n",
    "\n",
    "pipeline = MIPVUPipeline(text, word)\n",
    "result = pipeline.process_mipvu()\n",
    "print(result)\n"
   ]
  },
  {
   "cell_type": "code",
   "execution_count": null,
   "metadata": {},
   "outputs": [],
   "source": []
  },
  {
   "cell_type": "code",
   "execution_count": 26,
   "metadata": {},
   "outputs": [
    {
     "name": "stdout",
     "output_type": "stream",
     "text": [
      "light in a transparent protective case\n"
     ]
    }
   ],
   "source": [
    "print(get_basic_meaning(\"lantern\"))"
   ]
  },
  {
   "cell_type": "code",
   "execution_count": null,
   "metadata": {},
   "outputs": [],
   "source": []
  }
 ],
 "metadata": {
  "kernelspec": {
   "display_name": "venv",
   "language": "python",
   "name": "python3"
  },
  "language_info": {
   "codemirror_mode": {
    "name": "ipython",
    "version": 3
   },
   "file_extension": ".py",
   "mimetype": "text/x-python",
   "name": "python",
   "nbconvert_exporter": "python",
   "pygments_lexer": "ipython3",
   "version": "3.7.6"
  }
 },
 "nbformat": 4,
 "nbformat_minor": 2
}
