{
 "cells": [
  {
   "cell_type": "code",
   "execution_count": 2,
   "metadata": {},
   "outputs": [],
   "source": [
    "import pandas as pd\n",
    "\n",
    "def read_tsv(file_path):\n",
    "    return pd.read_csv(file_path, delimiter='\\t')"
   ]
  },
  {
   "cell_type": "code",
   "execution_count": 3,
   "metadata": {},
   "outputs": [],
   "source": [
    "# Preprocess function for adding special tokens\n",
    "def add_special_tokens(sentence, w_index):\n",
    "    words = [\" \"] + sentence.split() if sentence.startswith(\" \") else sentence.split()\n",
    "    words[w_index] = f\"<target> {words[w_index]} </target>\"\n",
    "    return ' '.join(words)\n"
   ]
  },
  {
   "cell_type": "code",
   "execution_count": 4,
   "metadata": {},
   "outputs": [],
   "source": [
    "import json\n",
    "\n",
    "def to_jsonl(df, file_name):\n",
    "    # Preprocess data for input\n",
    "    df[\"processed_sentence\"] = df.apply(lambda row: add_special_tokens(row[\"sentence\"], row[\"w_index\"]), axis=1)\n",
    "    \n",
    "    # Convert to JSONL format for fine-tuning\n",
    "    jsonl_data = df.apply(lambda row: {\n",
    "        \"input\": f'{row[\"POS\"]}: {row[\"processed_sentence\"]}',\n",
    "        \"output\": str(row[\"label\"])  # Ensure the label is string if needed\n",
    "    }, axis=1).tolist()\n",
    "    \n",
    "    # Save to JSONL\n",
    "    jsonl_file = f\"{file_name}.jsonl\"\n",
    "    with open(jsonl_file, \"w\") as f:\n",
    "        for entry in jsonl_data:\n",
    "            f.write(json.dumps(entry) + \"\\n\")\n",
    "    \n",
    "    print(f\"Saved dataset in {jsonl_file}\")\n"
   ]
  },
  {
   "cell_type": "code",
   "execution_count": 5,
   "metadata": {},
   "outputs": [],
   "source": [
    "train = read_tsv(\"../data/VUA18/train.tsv\")\n",
    "dev = read_tsv(\"../data/VUA18/dev.tsv\")\n",
    "test = read_tsv(\"../data/VUA18/test.tsv\")"
   ]
  },
  {
   "cell_type": "code",
   "execution_count": 6,
   "metadata": {},
   "outputs": [
    {
     "name": "stdout",
     "output_type": "stream",
     "text": [
      "Saved dataset in data/VUA18_FT/train.jsonl\n",
      "Saved dataset in data/VUA18_FT/dev.jsonl\n",
      "Saved dataset in data/VUA18_FT/test.jsonl\n"
     ]
    }
   ],
   "source": [
    "to_jsonl(train, \"../data/VUA18_FT/train\")\n",
    "to_jsonl(dev, \"../data/VUA18_FT/dev\")\n",
    "to_jsonl(test, \"../data/VUA18_FT/test\")"
   ]
  },
  {
   "cell_type": "code",
   "execution_count": null,
   "metadata": {},
   "outputs": [],
   "source": []
  }
 ],
 "metadata": {
  "kernelspec": {
   "display_name": "venv",
   "language": "python",
   "name": "python3"
  },
  "language_info": {
   "codemirror_mode": {
    "name": "ipython",
    "version": 3
   },
   "file_extension": ".py",
   "mimetype": "text/x-python",
   "name": "python",
   "nbconvert_exporter": "python",
   "pygments_lexer": "ipython3",
   "version": "3.7.6"
  }
 },
 "nbformat": 4,
 "nbformat_minor": 2
}
